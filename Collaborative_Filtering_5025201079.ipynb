{
  "nbformat": 4,
  "nbformat_minor": 0,
  "metadata": {
    "colab": {
      "provenance": [],
      "authorship_tag": "ABX9TyN6+wNTcmgZ4Aq17pVwcGsq",
      "include_colab_link": true
    },
    "kernelspec": {
      "name": "python3",
      "display_name": "Python 3"
    },
    "language_info": {
      "name": "python"
    }
  },
  "cells": [
    {
      "cell_type": "markdown",
      "metadata": {
        "id": "view-in-github",
        "colab_type": "text"
      },
      "source": [
        "<a href=\"https://colab.research.google.com/github/julioger/Assignment_Week09_5025201079/blob/main/Collaborative_Filtering_5025201079.ipynb\" target=\"_parent\"><img src=\"https://colab.research.google.com/assets/colab-badge.svg\" alt=\"Open In Colab\"/></a>"
      ]
    },
    {
      "cell_type": "markdown",
      "source": [
        "Assignment Week 9 / Big Data A\n",
        "\n",
        "Julio Geraldi Soeiono/5025201079"
      ],
      "metadata": {
        "id": "48iB3lrS00s_"
      }
    },
    {
      "cell_type": "code",
      "execution_count": 1,
      "metadata": {
        "colab": {
          "base_uri": "https://localhost:8080/"
        },
        "id": "mxw56G-1tCU8",
        "outputId": "6ea749d9-b55d-4ee6-d086-15653ab69184"
      },
      "outputs": [
        {
          "output_type": "stream",
          "name": "stdout",
          "text": [
            "Looking in indexes: https://pypi.org/simple, https://us-python.pkg.dev/colab-wheels/public/simple/\n",
            "Collecting pyspark\n",
            "  Downloading pyspark-3.3.2.tar.gz (281.4 MB)\n",
            "\u001b[2K     \u001b[90m━━━━━━━━━━━━━━━━━━━━━━━━━━━━━━━━━━━━━━━\u001b[0m \u001b[32m281.4/281.4 MB\u001b[0m \u001b[31m4.4 MB/s\u001b[0m eta \u001b[36m0:00:00\u001b[0m\n",
            "\u001b[?25h  Preparing metadata (setup.py) ... \u001b[?25l\u001b[?25hdone\n",
            "Collecting py4j==0.10.9.5\n",
            "  Downloading py4j-0.10.9.5-py2.py3-none-any.whl (199 kB)\n",
            "\u001b[2K     \u001b[90m━━━━━━━━━━━━━━━━━━━━━━━━━━━━━━━━━━━━━━\u001b[0m \u001b[32m199.7/199.7 kB\u001b[0m \u001b[31m12.1 MB/s\u001b[0m eta \u001b[36m0:00:00\u001b[0m\n",
            "\u001b[?25hBuilding wheels for collected packages: pyspark\n",
            "  Building wheel for pyspark (setup.py) ... \u001b[?25l\u001b[?25hdone\n",
            "  Created wheel for pyspark: filename=pyspark-3.3.2-py2.py3-none-any.whl size=281824028 sha256=f186a3f6ad27ca2fe914f8d54de53237af587d37f9da4105cb28794ddfef9118\n",
            "  Stored in directory: /root/.cache/pip/wheels/6c/e3/9b/0525ce8a69478916513509d43693511463c6468db0de237c86\n",
            "Successfully built pyspark\n",
            "Installing collected packages: py4j, pyspark\n",
            "  Attempting uninstall: py4j\n",
            "    Found existing installation: py4j 0.10.9.7\n",
            "    Uninstalling py4j-0.10.9.7:\n",
            "      Successfully uninstalled py4j-0.10.9.7\n",
            "Successfully installed py4j-0.10.9.5 pyspark-3.3.2\n"
          ]
        }
      ],
      "source": [
        "!pip install pyspark"
      ]
    },
    {
      "cell_type": "code",
      "source": [
        "from pyspark.ml.evaluation import RegressionEvaluator\n",
        "from pyspark.ml.recommendation import ALS\n",
        "from pyspark.sql import Row, SparkSession"
      ],
      "metadata": {
        "id": "I8wfxCqj0_nj"
      },
      "execution_count": 2,
      "outputs": []
    },
    {
      "cell_type": "code",
      "source": [
        "# Create a SparkSession\n",
        "spark = SparkSession.builder \\\n",
        "        .master(\"local\") \\\n",
        "        .appName(\"myApp\") \\\n",
        "        .config(\"spark.sql.session.timeZone\", \"UTC\") \\\n",
        "        .config(\"spark.sql.session.timeout\", \"48h\") \\\n",
        "        .getOrCreate()"
      ],
      "metadata": {
        "id": "fySqHUnU1A78"
      },
      "execution_count": 3,
      "outputs": []
    },
    {
      "cell_type": "code",
      "source": [
        "lines = spark.read.text(\"./sample_data/sample_movielens_ratings.txt\").rdd\n",
        "parts = lines.map(lambda row: row.value.split(\"::\"))\n",
        "ratingsRDD = parts.map(lambda p: Row(userId=int(p[0]), movieId=int(p[1]),\n",
        "                                     rating=float(p[2]), timestamp=int(p[3])))\n",
        "ratings = spark.createDataFrame(ratingsRDD)\n",
        "(training, test) = ratings.randomSplit([0.8, 0.2])"
      ],
      "metadata": {
        "id": "hBhqqHCb1CKZ"
      },
      "execution_count": 5,
      "outputs": []
    },
    {
      "cell_type": "markdown",
      "source": [
        "## Build Recomendation model using ALS"
      ],
      "metadata": {
        "id": "LMv7pIgO1C-q"
      }
    },
    {
      "cell_type": "code",
      "source": [
        "max_iters = [5, 10, 17]\n",
        "reg_params = [0.1, 0.5, 0.9]\n",
        "\n",
        "results = {}"
      ],
      "metadata": {
        "id": "kfAvHmTL1EpZ"
      },
      "execution_count": 6,
      "outputs": []
    },
    {
      "cell_type": "code",
      "source": [
        "# Build the recommendation model using ALS on the training data\n",
        "# Note we set cold start strategy to 'drop' to ensure we don't get NaN evaluation metrics\n",
        "for max_iter in max_iters:\n",
        "    for reg_param in reg_params:\n",
        "        als = ALS(maxIter=max_iter, regParam=reg_param, userCol=\"userId\", itemCol=\"movieId\", ratingCol=\"rating\",\n",
        "                  coldStartStrategy=\"drop\")\n",
        "        model = als.fit(training)\n",
        "\n",
        "        predictions = model.transform(test)\n",
        "        evaluator = RegressionEvaluator(metricName=\"rmse\", labelCol=\"rating\",\n",
        "                                        predictionCol=\"prediction\")\n",
        "        rmse = evaluator.evaluate(predictions)\n",
        "\n",
        "        results[(max_iter, reg_param)] = rmse\n",
        "        print(f\"Root-mean-square error for maxIter={max_iter}, regParam={reg_param} = {rmse}\")"
      ],
      "metadata": {
        "colab": {
          "base_uri": "https://localhost:8080/"
        },
        "id": "2HPOl3Ls1H2S",
        "outputId": "43895a79-ce5a-4da6-b971-2cf815f2258d"
      },
      "execution_count": 7,
      "outputs": [
        {
          "output_type": "stream",
          "name": "stdout",
          "text": [
            "Root-mean-square error for maxIter=5, regParam=0.1 = 1.0924181097051857\n",
            "Root-mean-square error for maxIter=5, regParam=0.5 = 1.2719653344123234\n",
            "Root-mean-square error for maxIter=5, regParam=0.9 = 1.4895659731214166\n",
            "Root-mean-square error for maxIter=10, regParam=0.1 = 1.0522477212470325\n",
            "Root-mean-square error for maxIter=10, regParam=0.5 = 1.2614666776902745\n",
            "Root-mean-square error for maxIter=10, regParam=0.9 = 1.4895579527506728\n",
            "Root-mean-square error for maxIter=17, regParam=0.1 = 1.0537366583592385\n",
            "Root-mean-square error for maxIter=17, regParam=0.5 = 1.2614991730676248\n",
            "Root-mean-square error for maxIter=17, regParam=0.9 = 1.489557982815122\n"
          ]
        }
      ]
    },
    {
      "cell_type": "code",
      "source": [
        "best_params = min(results, key=results.get)\n",
        "best_rmse = results[best_params]\n",
        "print(f\"\\nBest hyperparameters: maxIter={best_params[0]}, regParam={best_params[1]} with RMSE={best_rmse}\")"
      ],
      "metadata": {
        "colab": {
          "base_uri": "https://localhost:8080/"
        },
        "id": "Hju5f7BB3_zf",
        "outputId": "afff515b-e758-4833-de5a-4d8e5665495e"
      },
      "execution_count": 8,
      "outputs": [
        {
          "output_type": "stream",
          "name": "stdout",
          "text": [
            "\n",
            "Best hyperparameters: maxIter=10, regParam=0.1 with RMSE=1.0522477212470325\n"
          ]
        }
      ]
    },
    {
      "cell_type": "code",
      "source": [
        "als = ALS(maxIter=best_params[0], regParam=best_params[1], userCol=\"userId\", itemCol=\"movieId\", ratingCol=\"rating\",\n",
        "               coldStartStrategy=\"drop\")\n",
        "model = als.fit(training)"
      ],
      "metadata": {
        "id": "2gkhoMYo4EPP"
      },
      "execution_count": 9,
      "outputs": []
    },
    {
      "cell_type": "code",
      "source": [
        "# Generate top 10 movie recommendations for each user\n",
        "userRecs = model.recommendForAllUsers(10)\n",
        "userRecs.show()"
      ],
      "metadata": {
        "colab": {
          "base_uri": "https://localhost:8080/"
        },
        "id": "kJ8zjqyR4Fvz",
        "outputId": "93dfef78-e4c1-46e8-d77d-6fb06bbd621b"
      },
      "execution_count": 10,
      "outputs": [
        {
          "output_type": "stream",
          "name": "stdout",
          "text": [
            "+------+--------------------+\n",
            "|userId|     recommendations|\n",
            "+------+--------------------+\n",
            "|    20|[{22, 3.8394387},...|\n",
            "|    10|[{92, 3.2256405},...|\n",
            "|     0|[{92, 3.2177768},...|\n",
            "|     1|[{62, 3.1430864},...|\n",
            "|    21|[{52, 4.294122}, ...|\n",
            "|    11|[{18, 4.79582}, {...|\n",
            "|    12|[{46, 4.720094}, ...|\n",
            "|    22|[{75, 4.679727}, ...|\n",
            "|     2|[{8, 4.4959283}, ...|\n",
            "|    13|[{93, 2.7825341},...|\n",
            "|     3|[{30, 3.6952896},...|\n",
            "|    23|[{55, 4.76673}, {...|\n",
            "|     4|[{2, 3.4510968}, ...|\n",
            "|    24|[{52, 4.512777}, ...|\n",
            "|    14|[{52, 4.717275}, ...|\n",
            "|     5|[{55, 3.7353773},...|\n",
            "|    15|[{46, 3.9840033},...|\n",
            "|    25|[{47, 2.9848151},...|\n",
            "|    26|[{23, 4.4985633},...|\n",
            "|     6|[{25, 3.705084}, ...|\n",
            "+------+--------------------+\n",
            "only showing top 20 rows\n",
            "\n"
          ]
        }
      ]
    },
    {
      "cell_type": "code",
      "source": [
        "# Generate top 10 user recommendations for each movie\n",
        "movieRecs = model.recommendForAllItems(10)\n",
        "movieRecs.show()"
      ],
      "metadata": {
        "colab": {
          "base_uri": "https://localhost:8080/"
        },
        "id": "A8hEoSSz4GSp",
        "outputId": "21dccf56-1ebf-46f3-a924-d56fc50b5526"
      },
      "execution_count": 11,
      "outputs": [
        {
          "output_type": "stream",
          "name": "stdout",
          "text": [
            "+-------+--------------------+\n",
            "|movieId|     recommendations|\n",
            "+-------+--------------------+\n",
            "|     20|[{2, 1.1400391}, ...|\n",
            "|     40|[{28, 3.544061}, ...|\n",
            "|     10|[{23, 3.38582}, {...|\n",
            "|     50|[{23, 4.025022}, ...|\n",
            "|     80|[{3, 3.6170764}, ...|\n",
            "|     70|[{8, 3.2217858}, ...|\n",
            "|     60|[{3, 2.2034435}, ...|\n",
            "|     90|[{23, 4.576513}, ...|\n",
            "|     30|[{11, 4.734014}, ...|\n",
            "|      0|[{28, 2.7173338},...|\n",
            "|     31|[{12, 2.9552052},...|\n",
            "|     81|[{28, 3.836219}, ...|\n",
            "|     91|[{12, 3.0490267},...|\n",
            "|      1|[{12, 2.1476226},...|\n",
            "|     41|[{4, 3.0755599}, ...|\n",
            "|     61|[{6, 2.0846412}, ...|\n",
            "|     51|[{22, 3.950915}, ...|\n",
            "|     21|[{26, 2.127709}, ...|\n",
            "|     11|[{16, 1.4927329},...|\n",
            "|     71|[{25, 2.8108008},...|\n",
            "+-------+--------------------+\n",
            "only showing top 20 rows\n",
            "\n"
          ]
        }
      ]
    },
    {
      "cell_type": "code",
      "source": [
        "# Generate top 10 movie recommendations for a specific set of users\n",
        "users = ratings.select(als.getUserCol()).distinct().limit(3)\n",
        "userSubsetRecs = model.recommendForUserSubset(users, 10)\n",
        "userSubsetRecs.show()"
      ],
      "metadata": {
        "colab": {
          "base_uri": "https://localhost:8080/"
        },
        "id": "FTd-vq1q4H-H",
        "outputId": "2f3e762c-7000-4813-ce59-b8fb667569bc"
      },
      "execution_count": 12,
      "outputs": [
        {
          "output_type": "stream",
          "name": "stdout",
          "text": [
            "+------+--------------------+\n",
            "|userId|     recommendations|\n",
            "+------+--------------------+\n",
            "|    26|[{23, 4.4985633},...|\n",
            "|    19|[{94, 3.5228574},...|\n",
            "|    29|[{46, 4.2372036},...|\n",
            "+------+--------------------+\n",
            "\n"
          ]
        }
      ]
    },
    {
      "cell_type": "code",
      "source": [
        "# Generate top 10 user recommendations for a specific set of movies\n",
        "movies = ratings.select(als.getItemCol()).distinct().limit(3)\n",
        "movieSubSetRecs = model.recommendForItemSubset(movies, 10)\n",
        "movieSubSetRecs.show()"
      ],
      "metadata": {
        "colab": {
          "base_uri": "https://localhost:8080/"
        },
        "id": "uVtfPgt54JNU",
        "outputId": "e94858dc-37f1-4c0c-9109-cfe09210e662"
      },
      "execution_count": 13,
      "outputs": [
        {
          "output_type": "stream",
          "name": "stdout",
          "text": [
            "+-------+--------------------+\n",
            "|movieId|     recommendations|\n",
            "+-------+--------------------+\n",
            "|     65|[{23, 3.992788}, ...|\n",
            "|     26|[{12, 2.301162}, ...|\n",
            "|     29|[{8, 4.663761}, {...|\n",
            "+-------+--------------------+\n",
            "\n"
          ]
        }
      ]
    },
    {
      "cell_type": "markdown",
      "source": [
        "The best model is the best hyperparameter combination based on the lowest RMSE"
      ],
      "metadata": {
        "id": "Q6XT8dJg7ZoV"
      }
    }
  ]
}